{
 "cells": [
  {
   "cell_type": "code",
   "execution_count": null,
   "id": "f26c5c8e",
   "metadata": {},
   "outputs": [],
   "source": [
    "# Imports\n",
    "from fastai.vision.all import *\n",
    "from fastai.vision.widgets import *\n",
    "from pathlib import Path, PosixPath, WindowsPath"
   ]
  },
  {
   "cell_type": "code",
   "execution_count": null,
   "id": "fe46dbe0",
   "metadata": {},
   "outputs": [],
   "source": [
    "plt = platform.system()\n",
    "if plt == 'Linux':\n",
    "    PosixPath = WindowsPath\n",
    "elif plt == 'Windows':\n",
    "    WindowsPath = PosixPath"
   ]
  },
  {
   "cell_type": "code",
   "execution_count": null,
   "id": "ee414daa",
   "metadata": {},
   "outputs": [],
   "source": [
    "# Load model\n",
    "path = Path('./Model/')\n",
    "load_learner(path/'export.pkl', cpu=True)\n",
    "\n",
    "btn_upload = widgets.FileUpload()\n",
    "out_pl = widgets.Output()\n",
    "lbl_pred = widgets.Label()"
   ]
  },
  {
   "cell_type": "code",
   "execution_count": null,
   "id": "2a56bfea",
   "metadata": {},
   "outputs": [],
   "source": [
    "# Create inference function\n",
    "def on_data_change(change):    \n",
    "    lbl_pred.value = ''    \n",
    "    \n",
    "    #Load Image\n",
    "    img = PILImage.create(btn_upload.data[-1])\n",
    "    out_pl.clear_output()\n",
    "    with out_pl: \n",
    "        display(img.to_thumb(128,128))\n",
    "    \n",
    "    # Predict image\n",
    "    pred,pred_idx,probs = learn_inf.predict(img)\n",
    "    \n",
    "    lbl_pred.value = f'Prediction: {pred}; Probability:{probs[pred_idx]:.04f}'"
   ]
  },
  {
   "cell_type": "code",
   "execution_count": null,
   "id": "1389263c",
   "metadata": {},
   "outputs": [],
   "source": [
    "btn_upload.observe(on_data_change, names=['data'])"
   ]
  },
  {
   "cell_type": "code",
   "execution_count": null,
   "id": "b4e3d74e",
   "metadata": {},
   "outputs": [],
   "source": [
    "# Display Prediction\n",
    "display(VBox([widgets.Label('Upload your bear image!'), btn_upload, out_pl, lbl_pred]))"
   ]
  }
 ],
 "metadata": {
  "kernelspec": {
   "display_name": "Python 3",
   "language": "python",
   "name": "python3"
  },
  "language_info": {
   "codemirror_mode": {
    "name": "ipython",
    "version": 3
   },
   "file_extension": ".py",
   "mimetype": "text/x-python",
   "name": "python",
   "nbconvert_exporter": "python",
   "pygments_lexer": "ipython3",
   "version": "3.8.10"
  }
 },
 "nbformat": 4,
 "nbformat_minor": 5
}
